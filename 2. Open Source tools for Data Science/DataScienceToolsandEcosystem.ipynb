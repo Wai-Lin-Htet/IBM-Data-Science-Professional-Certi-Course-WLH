{
 "cells": [
  {
   "cell_type": "code",
   "execution_count": null,
   "metadata": {},
   "outputs": [],
   "source": [
    "# Title of the Notebook\n",
    "## Introduction\n",
    "## Data Science Languages\n",
    "\n",
    "- Python\n",
    "- R\n",
    "- SQL\n",
    "- Julia\n",
    "- Java\n",
    "\n",
    "## Data Science Libraries\n",
    "\n",
    "- NumPy\n",
    "- Pandas\n",
    "- Matplotlib\n",
    "- Scikit-learn\n",
    "- TensorFlow\n",
    "\n",
    "## Data Science Tools\n",
    "\n",
    "| Tool             | Description                      |\n",
    "|------------------|----------------------------------|\n",
    "| Jupyter Notebook | Interactive computing environment|\n",
    "| RStudio          | Integrated development environment for R |\n",
    "| Apache Spark     | Cluster-computing framework      |\n",
    "\n",
    "\n",
    "## Arithmetic Expression Examples\n",
    "\n",
    "# Example of multiplication and addition\n",
    "result = (3 * 4) + 5\n",
    "result\n",
    "\n",
    "# Convert minutes to hours\n",
    "minutes = 120\n",
    "hours = minutes / 60\n",
    "hours\n",
    "\n",
    "\n",
    "## Objectives\n",
    "\n",
    "- Understand basic data science concepts\n",
    "- Familiarize with common data science tools and libraries\n",
    "- Perform basic arithmetic operations using Python\n",
    "\n",
    "\n",
    "## Author\n",
    "Wai Lin Htet\n"
   ]
  }
 ],
 "metadata": {
  "language_info": {
   "name": "python"
  }
 },
 "nbformat": 4,
 "nbformat_minor": 2
}
